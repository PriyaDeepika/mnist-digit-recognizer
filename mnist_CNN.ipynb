{
 "cells": [
  {
   "cell_type": "code",
   "execution_count": 1,
   "id": "49bc4f08-3f9e-4058-96be-023e6c17e44f",
   "metadata": {},
   "outputs": [],
   "source": [
    "import pandas as pd\n",
    "import numpy as np\n",
    "import matplotlib.pyplot as plt\n",
    "from sklearn.model_selection import train_test_split\n",
    "from tensorflow.keras import Input\n",
    "from tensorflow.keras.models import Sequential\n",
    "from tensorflow.keras.layers import Conv2D, MaxPooling2D, Flatten, Dense, Dropout\n",
    "from tensorflow.keras.utils import to_categorical\n",
    "from tensorflow.keras.callbacks import EarlyStopping\n",
    "from tensorflow.keras.preprocessing.image import ImageDataGenerator"
   ]
  },
  {
   "cell_type": "code",
   "execution_count": 2,
   "id": "03e46f0e-d23f-4791-b280-74b208e5047a",
   "metadata": {},
   "outputs": [],
   "source": [
    "#Load data\n",
    "train_df = pd.read_csv('train.csv')\n",
    "test_df = pd.read_csv('test.csv')"
   ]
  },
  {
   "cell_type": "code",
   "execution_count": 3,
   "id": "f6e28c60-9840-488f-9776-a1eae152bb28",
   "metadata": {},
   "outputs": [
    {
     "name": "stdout",
     "output_type": "stream",
     "text": [
      "(42000, 785)\n",
      "   label  pixel0  pixel1  pixel2  pixel3  pixel4  pixel5  pixel6  pixel7  \\\n",
      "0      1       0       0       0       0       0       0       0       0   \n",
      "1      0       0       0       0       0       0       0       0       0   \n",
      "2      1       0       0       0       0       0       0       0       0   \n",
      "3      4       0       0       0       0       0       0       0       0   \n",
      "4      0       0       0       0       0       0       0       0       0   \n",
      "\n",
      "   pixel8  ...  pixel774  pixel775  pixel776  pixel777  pixel778  pixel779  \\\n",
      "0       0  ...         0         0         0         0         0         0   \n",
      "1       0  ...         0         0         0         0         0         0   \n",
      "2       0  ...         0         0         0         0         0         0   \n",
      "3       0  ...         0         0         0         0         0         0   \n",
      "4       0  ...         0         0         0         0         0         0   \n",
      "\n",
      "   pixel780  pixel781  pixel782  pixel783  \n",
      "0         0         0         0         0  \n",
      "1         0         0         0         0  \n",
      "2         0         0         0         0  \n",
      "3         0         0         0         0  \n",
      "4         0         0         0         0  \n",
      "\n",
      "[5 rows x 785 columns]\n"
     ]
    }
   ],
   "source": [
    "#Check structure\n",
    "print(train_df.shape)\n",
    "print(train_df.head())"
   ]
  },
  {
   "cell_type": "markdown",
   "id": "e4fbf52b-0d89-4553-b29b-33485ac8ae56",
   "metadata": {},
   "source": [
    "Split features and labels"
   ]
  },
  {
   "cell_type": "code",
   "execution_count": 4,
   "id": "521a0873-ba35-4a5c-a0f9-7d38d8ae85ed",
   "metadata": {},
   "outputs": [],
   "source": [
    "#Split training data\n",
    "X = train_df.drop('label', axis = 1)\n",
    "y = train_df['label']"
   ]
  },
  {
   "cell_type": "code",
   "execution_count": 5,
   "id": "777cb218-fe91-47ec-8dd3-4fe20b95cab6",
   "metadata": {},
   "outputs": [],
   "source": [
    "#Normalize pixel values\n",
    "X = X / 255.0\n",
    "test_df = test_df / 255.0"
   ]
  },
  {
   "cell_type": "markdown",
   "id": "07835df2-ebda-40e7-9d0e-36ff81e10798",
   "metadata": {},
   "source": [
    "Reshape the Data for CNN"
   ]
  },
  {
   "cell_type": "code",
   "execution_count": 6,
   "id": "955cd357-b3af-4b7c-a692-eba7b2877a2e",
   "metadata": {},
   "outputs": [],
   "source": [
    "X = X.values.reshape(-1, 28, 28, 1)\n",
    "test_images = test_df.values.reshape(-1, 28, 28, 1)"
   ]
  },
  {
   "cell_type": "markdown",
   "id": "3ca61e89-93d3-4279-9646-6a5250585f78",
   "metadata": {},
   "source": [
    "Create Training and Validation Sets"
   ]
  },
  {
   "cell_type": "code",
   "execution_count": 7,
   "id": "4e69c74c-c17d-4da7-8118-0b9ef0597c98",
   "metadata": {},
   "outputs": [],
   "source": [
    "X_train, X_val, y_train, y_val = train_test_split(X, y, test_size = 0.1, random_state = 42)"
   ]
  },
  {
   "cell_type": "markdown",
   "id": "0c4fc56b-ecba-482c-8f18-2d82a59f5981",
   "metadata": {},
   "source": [
    "Image Augmentation (optional, helps improve generalization)"
   ]
  },
  {
   "cell_type": "code",
   "execution_count": 8,
   "id": "34b31f63-8e89-490f-bdc3-98bacb8b85c1",
   "metadata": {},
   "outputs": [],
   "source": [
    "datagen = ImageDataGenerator(\n",
    "    rotation_range=10,\n",
    "    zoom_range=0.1,\n",
    "    width_shift_range=0.1,\n",
    "    height_shift_range=0.1\n",
    ")\n",
    "datagen.fit(X_train)"
   ]
  },
  {
   "cell_type": "markdown",
   "id": "eafc195b-49fd-4d02-8e86-060dbcb563aa",
   "metadata": {},
   "source": [
    "Build the CNN Model"
   ]
  },
  {
   "cell_type": "code",
   "execution_count": 9,
   "id": "8b174fd2-a26f-4fba-83e6-81910edaa477",
   "metadata": {},
   "outputs": [],
   "source": [
    "model = Sequential([\n",
    "    Input(shape=(28, 28, 1)),   # this replaces input_shape in Conv2D\n",
    "    Conv2D(32, (3,3), activation='relu'),\n",
    "    MaxPooling2D(2,2),\n",
    "    Conv2D(64, (3,3), activation='relu'),\n",
    "    MaxPooling2D(2,2),\n",
    "    Flatten(),\n",
    "    Dense(64, activation='relu'),\n",
    "    Dropout(0.5),\n",
    "    Dense(10, activation='softmax')   #10 output classes for 0-9\n",
    "])"
   ]
  },
  {
   "cell_type": "markdown",
   "id": "3dd8f816-7bc4-42ce-beff-6e099c58e7e5",
   "metadata": {},
   "source": [
    "Compile model"
   ]
  },
  {
   "cell_type": "code",
   "execution_count": 10,
   "id": "df76760b-1f3a-4516-91f7-cf58cfbba7ab",
   "metadata": {},
   "outputs": [],
   "source": [
    "model.compile(optimizer='adam',\n",
    "              loss = 'sparse_categorical_crossentropy',\n",
    "              metrics=['accuracy'])"
   ]
  },
  {
   "cell_type": "markdown",
   "id": "96fb5751-9f8d-4856-935f-67f6701fbe1a",
   "metadata": {},
   "source": [
    "Set Early Stopping"
   ]
  },
  {
   "cell_type": "code",
   "execution_count": 11,
   "id": "47e22679-bb5a-46c5-acb9-1ec4fb80f37f",
   "metadata": {},
   "outputs": [],
   "source": [
    "early_stop = EarlyStopping(monitor='val_loss', patience=3, restore_best_weights=True)"
   ]
  },
  {
   "cell_type": "markdown",
   "id": "a651b1c2-bc5e-48da-bf1e-1d2a58741dcb",
   "metadata": {},
   "source": [
    "Train Model"
   ]
  },
  {
   "cell_type": "code",
   "execution_count": 12,
   "id": "365befa5-e088-468d-a4f6-fc8a018cedac",
   "metadata": {},
   "outputs": [
    {
     "name": "stderr",
     "output_type": "stream",
     "text": [
      "C:\\Users\\priya\\tf_jupyter\\lib\\site-packages\\keras\\src\\trainers\\data_adapters\\py_dataset_adapter.py:121: UserWarning: Your `PyDataset` class should call `super().__init__(**kwargs)` in its constructor. `**kwargs` can include `workers`, `use_multiprocessing`, `max_queue_size`. Do not pass these arguments to `fit()`, as they will be ignored.\n",
      "  self._warn_if_super_not_called()\n"
     ]
    },
    {
     "name": "stdout",
     "output_type": "stream",
     "text": [
      "Epoch 1/20\n",
      "\u001b[1m591/591\u001b[0m \u001b[32m━━━━━━━━━━━━━━━━━━━━\u001b[0m\u001b[37m\u001b[0m \u001b[1m56s\u001b[0m 88ms/step - accuracy: 0.6031 - loss: 1.1701 - val_accuracy: 0.9664 - val_loss: 0.1122\n",
      "Epoch 2/20\n",
      "\u001b[1m591/591\u001b[0m \u001b[32m━━━━━━━━━━━━━━━━━━━━\u001b[0m\u001b[37m\u001b[0m \u001b[1m54s\u001b[0m 91ms/step - accuracy: 0.8825 - loss: 0.3779 - val_accuracy: 0.9779 - val_loss: 0.0675\n",
      "Epoch 3/20\n",
      "\u001b[1m591/591\u001b[0m \u001b[32m━━━━━━━━━━━━━━━━━━━━\u001b[0m\u001b[37m\u001b[0m \u001b[1m81s\u001b[0m 89ms/step - accuracy: 0.9134 - loss: 0.2822 - val_accuracy: 0.9736 - val_loss: 0.0828\n",
      "Epoch 4/20\n",
      "\u001b[1m591/591\u001b[0m \u001b[32m━━━━━━━━━━━━━━━━━━━━\u001b[0m\u001b[37m\u001b[0m \u001b[1m82s\u001b[0m 90ms/step - accuracy: 0.9303 - loss: 0.2340 - val_accuracy: 0.9838 - val_loss: 0.0484\n",
      "Epoch 5/20\n",
      "\u001b[1m591/591\u001b[0m \u001b[32m━━━━━━━━━━━━━━━━━━━━\u001b[0m\u001b[37m\u001b[0m \u001b[1m82s\u001b[0m 89ms/step - accuracy: 0.9403 - loss: 0.1973 - val_accuracy: 0.9845 - val_loss: 0.0438\n",
      "Epoch 6/20\n",
      "\u001b[1m591/591\u001b[0m \u001b[32m━━━━━━━━━━━━━━━━━━━━\u001b[0m\u001b[37m\u001b[0m \u001b[1m55s\u001b[0m 92ms/step - accuracy: 0.9460 - loss: 0.1768 - val_accuracy: 0.9864 - val_loss: 0.0386\n",
      "Epoch 7/20\n",
      "\u001b[1m591/591\u001b[0m \u001b[32m━━━━━━━━━━━━━━━━━━━━\u001b[0m\u001b[37m\u001b[0m \u001b[1m53s\u001b[0m 90ms/step - accuracy: 0.9531 - loss: 0.1578 - val_accuracy: 0.9876 - val_loss: 0.0328\n",
      "Epoch 8/20\n",
      "\u001b[1m591/591\u001b[0m \u001b[32m━━━━━━━━━━━━━━━━━━━━\u001b[0m\u001b[37m\u001b[0m \u001b[1m82s\u001b[0m 89ms/step - accuracy: 0.9568 - loss: 0.1489 - val_accuracy: 0.9864 - val_loss: 0.0345\n",
      "Epoch 9/20\n",
      "\u001b[1m591/591\u001b[0m \u001b[32m━━━━━━━━━━━━━━━━━━━━\u001b[0m\u001b[37m\u001b[0m \u001b[1m54s\u001b[0m 92ms/step - accuracy: 0.9584 - loss: 0.1391 - val_accuracy: 0.9910 - val_loss: 0.0255\n",
      "Epoch 10/20\n",
      "\u001b[1m591/591\u001b[0m \u001b[32m━━━━━━━━━━━━━━━━━━━━\u001b[0m\u001b[37m\u001b[0m \u001b[1m55s\u001b[0m 92ms/step - accuracy: 0.9624 - loss: 0.1309 - val_accuracy: 0.9881 - val_loss: 0.0318\n",
      "Epoch 11/20\n",
      "\u001b[1m591/591\u001b[0m \u001b[32m━━━━━━━━━━━━━━━━━━━━\u001b[0m\u001b[37m\u001b[0m \u001b[1m55s\u001b[0m 93ms/step - accuracy: 0.9649 - loss: 0.1175 - val_accuracy: 0.9893 - val_loss: 0.0315\n",
      "Epoch 12/20\n",
      "\u001b[1m591/591\u001b[0m \u001b[32m━━━━━━━━━━━━━━━━━━━━\u001b[0m\u001b[37m\u001b[0m \u001b[1m56s\u001b[0m 94ms/step - accuracy: 0.9675 - loss: 0.1061 - val_accuracy: 0.9898 - val_loss: 0.0270\n"
     ]
    }
   ],
   "source": [
    "history = model.fit(datagen.flow(X_train, y_train, batch_size=64),\n",
    "                    epochs=20,\n",
    "                    validation_data=(X_val, y_val),\n",
    "                    callbacks=[early_stop])"
   ]
  },
  {
   "cell_type": "markdown",
   "id": "e5cc6062-2308-429a-b236-d2b02d43273e",
   "metadata": {},
   "source": [
    "Evaluate the Model"
   ]
  },
  {
   "cell_type": "code",
   "execution_count": 13,
   "id": "3f55e0ee-01c2-40ba-a57b-f1fa54868e12",
   "metadata": {},
   "outputs": [
    {
     "name": "stdout",
     "output_type": "stream",
     "text": [
      "\u001b[1m132/132\u001b[0m \u001b[32m━━━━━━━━━━━━━━━━━━━━\u001b[0m\u001b[37m\u001b[0m \u001b[1m2s\u001b[0m 11ms/step - accuracy: 0.9898 - loss: 0.0249\n",
      "Validation Accuracy: 0.9910\n"
     ]
    }
   ],
   "source": [
    "val_loss, val_acc = model.evaluate(X_val, y_val)\n",
    "print(f'Validation Accuracy: {val_acc:.4f}')"
   ]
  },
  {
   "cell_type": "markdown",
   "id": "bd4c1be4-3f71-486a-935f-3a28aa6dfdc0",
   "metadata": {},
   "source": [
    "Predict on test data"
   ]
  },
  {
   "cell_type": "code",
   "execution_count": 14,
   "id": "a9b72a5d-e769-4eda-8da4-1b1409c1e86c",
   "metadata": {},
   "outputs": [
    {
     "name": "stdout",
     "output_type": "stream",
     "text": [
      "\u001b[1m875/875\u001b[0m \u001b[32m━━━━━━━━━━━━━━━━━━━━\u001b[0m\u001b[37m\u001b[0m \u001b[1m8s\u001b[0m 9ms/step\n"
     ]
    }
   ],
   "source": [
    "predictions = model.predict(test_images)\n",
    "predicted_labels = np.argmax(predictions, axis=1)"
   ]
  },
  {
   "cell_type": "markdown",
   "id": "6ec835b6-c6ae-4917-9975-0c492734b1bc",
   "metadata": {},
   "source": [
    "Save Predictions"
   ]
  },
  {
   "cell_type": "code",
   "execution_count": 16,
   "id": "6165e334-cb1f-4418-a6a5-e51b7288bac8",
   "metadata": {},
   "outputs": [],
   "source": [
    "submission = pd.DataFrame({\"ImageId\": list(range(1, len(predicted_labels)+1)),\n",
    "                           \"Label\": predicted_labels})\n",
    "submission.to_csv(\"submission.csv\", index=False)"
   ]
  },
  {
   "cell_type": "markdown",
   "id": "52a0c274-b7f4-47f9-b046-8bdef91c1907",
   "metadata": {},
   "source": [
    "Visualize some predictions"
   ]
  },
  {
   "cell_type": "code",
   "execution_count": null,
   "id": "f8227afe-acf6-489b-aee7-fc421b4ca162",
   "metadata": {},
   "outputs": [],
   "source": [
    "import random\n",
    "for i in range(5):\n",
    "    index = random.randint(0, len(test_images)-1)\n",
    "    plt.imshow(test_images[index].reshape(28,28), cmap='gray')\n",
    "    pred = np.argmax(model.predict(test_images[index].reshape(1,28,28,1)))\n",
    "    plt.title(f'Predicted: {pred}')\n",
    "    plt.axis('off')\n",
    "    plt.show()"
   ]
  },
  {
   "cell_type": "markdown",
   "id": "1283ab94-1541-422b-bdda-d4c3d0f31a07",
   "metadata": {},
   "source": [
    "Accuracy plot"
   ]
  },
  {
   "cell_type": "code",
   "execution_count": null,
   "id": "d7125dc4-d413-49d3-8be0-be5658359c16",
   "metadata": {},
   "outputs": [],
   "source": [
    "plt.plot(history.history['accuracy'], label='Train Accuracy')\n",
    "plt.plot(history.history['val_accuracy'], label='Validation Accuracy')\n",
    "plt.title('Model Accuracy')\n",
    "plt.xlabel('Epoch')\n",
    "plt.ylabel('Accuracy')\n",
    "plt.legend()\n",
    "plt.grid(True)\n",
    "plt.show()"
   ]
  }
 ],
 "metadata": {
  "kernelspec": {
   "display_name": "Python (tf_jupyter)",
   "language": "python",
   "name": "tf_jupyter"
  },
  "language_info": {
   "codemirror_mode": {
    "name": "ipython",
    "version": 3
   },
   "file_extension": ".py",
   "mimetype": "text/x-python",
   "name": "python",
   "nbconvert_exporter": "python",
   "pygments_lexer": "ipython3",
   "version": "3.10.18"
  }
 },
 "nbformat": 4,
 "nbformat_minor": 5
}
